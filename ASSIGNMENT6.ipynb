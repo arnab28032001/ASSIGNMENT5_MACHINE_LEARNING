{
 "cells": [
  {
   "cell_type": "code",
   "execution_count": 1,
   "id": "8516585f",
   "metadata": {},
   "outputs": [],
   "source": [
    "#ARNAB GOSWAMI\n",
    "#ROLL-PG/SOBAS/13/24/005\n",
    "#ENROLLMENT NUMBER- AU/2024/0001647\n",
    "#MSC PHYSICS SEM2\n",
    "#Q1-9\n",
    "import torch\n",
    "import numpy as np"
   ]
  },
  {
   "cell_type": "code",
   "execution_count": 2,
   "id": "74031f66",
   "metadata": {},
   "outputs": [
    {
     "name": "stdout",
     "output_type": "stream",
     "text": [
      "tensor([[0.7987, 0.9428, 0.2094, 0.0910, 0.4464],\n",
      "        [0.3300, 0.3390, 0.8003, 0.4212, 0.7541],\n",
      "        [0.9458, 0.5145, 0.8828, 0.8626, 0.1481],\n",
      "        [0.7599, 0.1767, 0.3855, 0.0933, 0.5264],\n",
      "        [0.3240, 0.9167, 0.8081, 0.1384, 0.3444]])\n"
     ]
    }
   ],
   "source": [
    "r=torch.rand(5,5)\n",
    "print(r)"
   ]
  },
  {
   "cell_type": "code",
   "execution_count": 3,
   "id": "a4753b56",
   "metadata": {},
   "outputs": [
    {
     "name": "stdout",
     "output_type": "stream",
     "text": [
      "tensor([[1, 0, 0],\n",
      "        [0, 1, 0],\n",
      "        [0, 0, 1]])\n"
     ]
    }
   ],
   "source": [
    "a=torch.tensor([1,1,1])\n",
    "d=torch.diag(a)\n",
    "print(d)"
   ]
  },
  {
   "cell_type": "code",
   "execution_count": 4,
   "id": "6b03bb50",
   "metadata": {},
   "outputs": [],
   "source": [
    "a=np.array([1,2,3,4])\n",
    "d=torch.from_numpy(a)"
   ]
  },
  {
   "cell_type": "code",
   "execution_count": 5,
   "id": "379edcf7",
   "metadata": {},
   "outputs": [],
   "source": [
    "m1=torch.tensor([[1,2,3],[4,5,6],[2,3,4]])\n",
    "m2=torch.tensor([[7,8,9],[10,11,12],[5,6,7]])"
   ]
  },
  {
   "cell_type": "code",
   "execution_count": 6,
   "id": "6638770f",
   "metadata": {},
   "outputs": [
    {
     "name": "stdout",
     "output_type": "stream",
     "text": [
      "tensor([[ 8, 10, 12],\n",
      "        [14, 16, 18],\n",
      "        [ 7,  9, 11]]) \n",
      " tensor([[-6, -6, -6],\n",
      "        [-6, -6, -6],\n",
      "        [-3, -3, -3]]) \n",
      " tensor([[ 42,  48,  54],\n",
      "        [108, 123, 138],\n",
      "        [ 64,  73,  82]]) \n",
      " tensor([[0.1429, 0.2500, 0.3333],\n",
      "        [0.4000, 0.4545, 0.5000],\n",
      "        [0.4000, 0.5000, 0.5714]])\n"
     ]
    }
   ],
   "source": [
    "add=m1+m2\n",
    "sub=m1-m2\n",
    "mult=torch.mm(m1,m2)\n",
    "div=torch.div(m1,m2)\n",
    "print(add,\"\\n\",sub,\"\\n\",mult,\"\\n\",div)"
   ]
  },
  {
   "cell_type": "code",
   "execution_count": 7,
   "id": "2a974bd8",
   "metadata": {},
   "outputs": [
    {
     "data": {
      "text/plain": [
       "tensor(32)"
      ]
     },
     "execution_count": 7,
     "metadata": {},
     "output_type": "execute_result"
    }
   ],
   "source": [
    "a1=torch.tensor([1,2,3])\n",
    "a2=torch.tensor([4,5,6])\n",
    "d=torch.dot(a1,a2)\n",
    "d"
   ]
  },
  {
   "cell_type": "code",
   "execution_count": 8,
   "id": "e0f3e0e0",
   "metadata": {},
   "outputs": [
    {
     "name": "stdout",
     "output_type": "stream",
     "text": [
      "tensor([[0.1464, 0.9721, 0.7310],\n",
      "        [0.3273, 0.6373, 0.1328]]) \n",
      "\n",
      "tensor([[0.4894, 0.9931],\n",
      "        [0.1137, 0.9323],\n",
      "        [0.3465, 0.3917]]) \n",
      "\n"
     ]
    },
    {
     "data": {
      "text/plain": [
       "tensor([[0.4354, 1.3379],\n",
       "        [0.2786, 0.9712]])"
      ]
     },
     "execution_count": 8,
     "metadata": {},
     "output_type": "execute_result"
    }
   ],
   "source": [
    "r1=torch.rand(2,3)\n",
    "r2=torch.rand(3,2)\n",
    "print(r1,\"\\n\")\n",
    "print(r2,\"\\n\")\n",
    "d=torch.mm(r1,r2)\n",
    "d"
   ]
  },
  {
   "cell_type": "code",
   "execution_count": 9,
   "id": "1ca6cccb",
   "metadata": {},
   "outputs": [
    {
     "data": {
      "text/plain": [
       "tensor([[[0.4496, 0.6836, 0.2990, 0.5316, 0.7221, 0.5602],\n",
       "         [0.2069, 0.7430, 0.0891, 0.2588, 0.0198, 0.5073]],\n",
       "\n",
       "        [[0.2488, 0.0477, 0.7586, 0.8600, 0.7735, 0.3029],\n",
       "         [0.8961, 0.6068, 0.1381, 0.8742, 0.9280, 0.3967]],\n",
       "\n",
       "        [[0.9806, 0.6219, 0.7548, 0.9647, 0.7119, 0.9484],\n",
       "         [0.4677, 0.7042, 0.2921, 0.3274, 0.1482, 0.4962]]])"
      ]
     },
     "execution_count": 9,
     "metadata": {},
     "output_type": "execute_result"
    }
   ],
   "source": [
    "r=torch.rand(6,6)\n",
    "m=r.view(3,2,6)\n",
    "m"
   ]
  },
  {
   "cell_type": "code",
   "execution_count": 10,
   "id": "b1c489eb",
   "metadata": {},
   "outputs": [
    {
     "data": {
      "text/plain": [
       "tensor([[1, 2, 3],\n",
       "        [1, 2, 3],\n",
       "        [1, 2, 3]])"
      ]
     },
     "execution_count": 10,
     "metadata": {},
     "output_type": "execute_result"
    }
   ],
   "source": [
    "v=torch.tensor([1,2,3])\n",
    "stack=torch.stack((v,v,v))\n",
    "stack"
   ]
  },
  {
   "cell_type": "code",
   "execution_count": 11,
   "id": "c8f08ce8",
   "metadata": {},
   "outputs": [
    {
     "data": {
      "text/plain": [
       "tensor([[ 1,  2,  3,  7,  8,  9],\n",
       "        [ 4,  5,  6, 10, 11, 12],\n",
       "        [ 2,  3,  4,  5,  6,  7]])"
      ]
     },
     "execution_count": 11,
     "metadata": {},
     "output_type": "execute_result"
    }
   ],
   "source": [
    "m1=torch.tensor([[1,2,3],[4,5,6],[2,3,4]])\n",
    "m2=torch.tensor([[7,8,9],[10,11,12],[5,6,7]])\n",
    "conc_tensor=torch.cat((m1,m2),dim=1)\n",
    "conc_tensor"
   ]
  },
  {
   "cell_type": "code",
   "execution_count": 12,
   "id": "86e0dab4",
   "metadata": {},
   "outputs": [],
   "source": [
    "x=torch.tensor(2.0,requires_grad=True)\n",
    "y=torch.tensor(3.0,requires_grad=True)"
   ]
  },
  {
   "cell_type": "code",
   "execution_count": 13,
   "id": "947e9842",
   "metadata": {},
   "outputs": [],
   "source": [
    "z=x**2+y**2+2*x*y\n",
    "z.backward()"
   ]
  },
  {
   "cell_type": "code",
   "execution_count": null,
   "id": "54c7e0cd",
   "metadata": {},
   "outputs": [],
   "source": []
  }
 ],
 "metadata": {
  "kernelspec": {
   "display_name": "Python [conda env:base] *",
   "language": "python",
   "name": "conda-base-py"
  },
  "language_info": {
   "codemirror_mode": {
    "name": "ipython",
    "version": 3
   },
   "file_extension": ".py",
   "mimetype": "text/x-python",
   "name": "python",
   "nbconvert_exporter": "python",
   "pygments_lexer": "ipython3",
   "version": "3.12.7"
  }
 },
 "nbformat": 4,
 "nbformat_minor": 5
}
