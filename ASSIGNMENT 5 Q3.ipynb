{
 "cells": [
  {
   "cell_type": "code",
   "execution_count": 153,
   "id": "b608f188-49ac-41cf-9eb3-7325ebc13cb5",
   "metadata": {},
   "outputs": [],
   "source": [
    "#Q3\n",
    "import matplotlib.pyplot as plt\n",
    "from sklearn.datasets import load_iris,make_classification\n",
    "from sklearn.model_selection import train_test_split\n",
    "from sklearn.linear_model import LinearRegression\n",
    "import numpy as np"
   ]
  },
  {
   "cell_type": "code",
   "execution_count": 154,
   "id": "4e5b4f76-27cd-4bdf-bbf9-668fc6ba87ac",
   "metadata": {},
   "outputs": [],
   "source": [
    "def err(y_true,y_pred):#error function\n",
    "    mae=np.mean(y_true-y_pred)\n",
    "    mse=np.mean((y_true-y_pred)**2)\n",
    "    rmse=np.sqrt(mse)\n",
    "    print(\"mae \",mae,\"mse\",mse,\"rmse\",rmse)"
   ]
  },
  {
   "cell_type": "code",
   "execution_count": 155,
   "id": "5028a2d0-61f0-4bc7-a0ae-9e74b377e9cd",
   "metadata": {},
   "outputs": [],
   "source": [
    "def linear_regression(X, y, lr=0.01):\n",
    "    m, n = X.shape\n",
    "    X = np.c_[np.ones(m), X]  # Adding bias term\n",
    "    theta = np.zeros((n + 1,1))\n",
    "    \n",
    "    while True:\n",
    "        predictions = X.dot(theta)\n",
    "        errors = predictions - y\n",
    "        gradient = (1/m) * X.T.dot(errors)\n",
    "        new_theta = theta - lr * gradient\n",
    "        \n",
    "        if np.allclose(new_theta, theta, atol=1e-6):\n",
    "            break\n",
    "        theta = new_theta\n",
    "        \n",
    "    return theta"
   ]
  },
  {
   "cell_type": "code",
   "execution_count": 156,
   "id": "930ed4a5-0de6-47ee-a5c4-d2d47c2ffe7b",
   "metadata": {},
   "outputs": [],
   "source": [
    "x=np.random.rand(100,1)\n",
    "y=5+2*x+np.random.rand(100,1)"
   ]
  },
  {
   "cell_type": "code",
   "execution_count": 157,
   "id": "782795f1-5a90-43a1-822a-0aa79ea7fdc6",
   "metadata": {},
   "outputs": [],
   "source": [
    "x=np.array(x).reshape(-1,1)\n",
    "y=np.array(y).reshape(-1,1)\n",
    "x_train,x_test,y_train,y_test=train_test_split(x,y,test_size=0.2,random_state=42)"
   ]
  },
  {
   "cell_type": "code",
   "execution_count": 158,
   "id": "34b1a62a-6a62-47d7-9c9a-80e6dd5f7b1e",
   "metadata": {},
   "outputs": [],
   "source": [
    "t= linear_regression(x_train, y_train, lr=0.05)"
   ]
  },
  {
   "cell_type": "code",
   "execution_count": 159,
   "id": "c370d586-06ba-429d-bc90-0701d32d27bf",
   "metadata": {},
   "outputs": [],
   "source": [
    "y_pred=t[0]+t[1]*x_test"
   ]
  },
  {
   "cell_type": "code",
   "execution_count": 160,
   "id": "7a6497a9-0351-4b17-a7dd-0973b39a03e7",
   "metadata": {},
   "outputs": [
    {
     "name": "stdout",
     "output_type": "stream",
     "text": [
      "mae  0.11678154944475967 mse 0.093241102582837 rmse 0.30535406102234336\n"
     ]
    }
   ],
   "source": [
    "err(y_test,y_pred)"
   ]
  },
  {
   "cell_type": "code",
   "execution_count": 161,
   "id": "4e92060a-826a-4794-9740-26839cfd02d1",
   "metadata": {},
   "outputs": [],
   "source": [
    "y_true=np.random.normal(5,10,500)\n",
    "y_pred=y_true+np.random.normal(0,1,500)"
   ]
  },
  {
   "cell_type": "code",
   "execution_count": 162,
   "id": "b0e8b234-7e3d-492d-b6a8-2b6f6002ee6d",
   "metadata": {},
   "outputs": [
    {
     "name": "stdout",
     "output_type": "stream",
     "text": [
      "mae  0.01238827152419433 mse 1.1589342907056734 rmse 1.0765381046231821\n"
     ]
    }
   ],
   "source": [
    "err(y_true,y_pred)"
   ]
  },
  {
   "cell_type": "code",
   "execution_count": null,
   "id": "44ef3e0a-a720-47a3-9b6f-91477e8b71f1",
   "metadata": {},
   "outputs": [],
   "source": []
  },
  {
   "cell_type": "code",
   "execution_count": null,
   "id": "da2c7abe-532a-45ea-8255-3e202a58cdb0",
   "metadata": {},
   "outputs": [],
   "source": []
  }
 ],
 "metadata": {
  "kernelspec": {
   "display_name": "Python [conda env:base] *",
   "language": "python",
   "name": "conda-base-py"
  },
  "language_info": {
   "codemirror_mode": {
    "name": "ipython",
    "version": 3
   },
   "file_extension": ".py",
   "mimetype": "text/x-python",
   "name": "python",
   "nbconvert_exporter": "python",
   "pygments_lexer": "ipython3",
   "version": "3.12.7"
  }
 },
 "nbformat": 4,
 "nbformat_minor": 5
}
